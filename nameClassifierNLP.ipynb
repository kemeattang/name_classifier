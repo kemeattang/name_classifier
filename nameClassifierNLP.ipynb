{
 "cells": [
  {
   "cell_type": "code",
   "execution_count": 3,
   "metadata": {
    "collapsed": false
   },
   "outputs": [],
   "source": [
    "import re\n",
    "import codecs\n",
    "\n",
    "from time import time\n",
    "\n",
    "from tqdm import tqdm\n",
    "import numpy as np\n",
    "import pandas as pd\n",
    "\n",
    "from sklearn.feature_extraction.text import TfidfVectorizer\n",
    "from sklearn.svm import LinearSVC\n",
    "from sklearn.metrics import roc_auc_score, confusion_matrix\n",
    "\n",
    "import seaborn as sns\n",
    "%matplotlib inline"
   ]
  },
  {
   "cell_type": "code",
   "execution_count": 4,
   "metadata": {
    "collapsed": true
   },
   "outputs": [],
   "source": [
    "import os \n",
    "os.chdir(\"/Users/eddy/Downloads\")"
   ]
  },
  {
   "cell_type": "code",
   "execution_count": 6,
   "metadata": {
    "collapsed": false
   },
   "outputs": [
    {
     "name": "stderr",
     "output_type": "stream",
     "text": [
      "8397083it [02:32, 54996.49it/s]\n"
     ]
    }
   ],
   "source": [
    "first_names = set()\n",
    "last_names = set()\n",
    "\n",
    "with codecs.open('persondata_en.nt', 'r', 'utf8') as names:\n",
    "    for line in tqdm(names):\n",
    "        if '<http://xmlns.com/foaf/0.1/surname>' in line and \"@en\" in line:\n",
    "            match = re.search('\"(.+?)\"@en', line)\n",
    "            if match:\n",
    "                last_names.add(match.group(1).lower())\n",
    "        elif '<http://xmlns.com/foaf/0.1/givenName>' in line and \"@en\" in line:\n",
    "            match = re.search('\"(.+?)\"@en', line)\n",
    "            if match:\n",
    "                first_names.add(match.group(1).lower())"
   ]
  },
  {
   "cell_type": "code",
   "execution_count": 7,
   "metadata": {
    "collapsed": false
   },
   "outputs": [
    {
     "data": {
      "text/plain": [
       "(206054, 331377)"
      ]
     },
     "execution_count": 7,
     "metadata": {},
     "output_type": "execute_result"
    }
   ],
   "source": [
    "len(first_names), len(last_names)"
   ]
  },
  {
   "cell_type": "code",
   "execution_count": 8,
   "metadata": {
    "collapsed": true
   },
   "outputs": [],
   "source": [
    "first_names = sorted(first_names)\n",
    "last_names = sorted(last_names)"
   ]
  },
  {
   "cell_type": "code",
   "execution_count": 9,
   "metadata": {
    "collapsed": false
   },
   "outputs": [
    {
     "data": {
      "text/plain": [
       "['%20johann%20michael',\n",
       " \"'''ali sayyid muhamed mustafa al-\",\n",
       " \"'''friedrich f.\",\n",
       " \"'''karl georg otto willibald\",\n",
       " \"'''lester whyland\",\n",
       " \"'''major general salihu zaway\",\n",
       " \"'''philibert-emmanuel de froulay de\",\n",
       " \"'aisake\",\n",
       " \"'ana\",\n",
       " \"'antigone\"]"
      ]
     },
     "execution_count": 9,
     "metadata": {},
     "output_type": "execute_result"
    }
   ],
   "source": [
    "first_names[:10]"
   ]
  },
  {
   "cell_type": "code",
   "execution_count": 10,
   "metadata": {
    "collapsed": true
   },
   "outputs": [],
   "source": [
    "first_names = [n for n in first_names if n.isalpha() and len(n) >= 3]\n",
    "last_names = [n for n in last_names if n.isalpha() and len(n) >= 3]"
   ]
  },
  {
   "cell_type": "code",
   "execution_count": 11,
   "metadata": {
    "collapsed": false
   },
   "outputs": [
    {
     "name": "stdout",
     "output_type": "stream",
     "text": [
      "['aaaa', 'aaaron', 'aabid', 'aad', 'aadarsh', 'aadel', 'aadesh', 'aadhavan', 'aadil', 'aaditya']\n",
      "['aab', 'aabech', 'aabel', 'aaberg', 'aaboe', 'aaboubou', 'aabrek', 'aabrekk', 'aabrink', 'aabroo']\n"
     ]
    }
   ],
   "source": [
    "print (first_names[:10])\n",
    "print (last_names[:10])"
   ]
  },
  {
   "cell_type": "code",
   "execution_count": 12,
   "metadata": {
    "collapsed": false
   },
   "outputs": [
    {
     "data": {
      "text/plain": [
       "(73738, 282833)"
      ]
     },
     "execution_count": 12,
     "metadata": {},
     "output_type": "execute_result"
    }
   ],
   "source": [
    "len(first_names), len(last_names)"
   ]
  },
  {
   "cell_type": "code",
   "execution_count": 14,
   "metadata": {
    "collapsed": false
   },
   "outputs": [],
   "source": [
    "with codecs.open('corncob_lowercase.txt', 'r', 'utf-8') as words:\n",
    "    non_names = {w.strip() for w in words}\n",
    "\n",
    "non_names = non_names - set(first_names)- set(last_names)\n",
    "non_names = sorted(non_names)"
   ]
  },
  {
   "cell_type": "code",
   "execution_count": 15,
   "metadata": {
    "collapsed": false
   },
   "outputs": [
    {
     "name": "stdout",
     "output_type": "stream",
     "text": [
      "['aardvark', 'aardwolf', 'aback', 'abaft', 'abalone', 'abandon', 'abandoned', 'abandonment', 'abandons', 'abase']\n"
     ]
    }
   ],
   "source": [
    "print (non_names[:10])"
   ]
  },
  {
   "cell_type": "code",
   "execution_count": 16,
   "metadata": {
    "collapsed": false
   },
   "outputs": [
    {
     "data": {
      "text/plain": [
       "50665"
      ]
     },
     "execution_count": 16,
     "metadata": {},
     "output_type": "execute_result"
    }
   ],
   "source": [
    "len(non_names)"
   ]
  },
  {
   "cell_type": "code",
   "execution_count": 17,
   "metadata": {
    "collapsed": false
   },
   "outputs": [
    {
     "name": "stderr",
     "output_type": "stream",
     "text": [
      "//anaconda/lib/python3.5/site-packages/ipykernel/__main__.py:4: VisibleDeprecationWarning: using a non-integer number instead of an integer will result in an error in the future\n",
      "//anaconda/lib/python3.5/site-packages/ipykernel/__main__.py:8: VisibleDeprecationWarning: using a non-integer number instead of an integer will result in an error in the future\n"
     ]
    }
   ],
   "source": [
    "def train_val_test(input, seed=1):\n",
    "    np.random.seed(seed)\n",
    "    n = len(input) / 5\n",
    "    test = set(np.random.choice(input, size=n, replace=False))\n",
    "    alltrain = set(input) - test\n",
    "\n",
    "    n = len(alltrain) / 5\n",
    "    val = set(np.random.choice(list(alltrain), size=n, replace=False))\n",
    "    train = alltrain - val\n",
    "    return list(train), list(val), list(test)\n",
    "\n",
    "first_train, first_val, first_test = train_val_test(first_names)\n",
    "last_train, last_val, last_test = train_val_test(last_names)\n",
    "words_train, words_val, words_test = train_val_test(non_names)"
   ]
  },
  {
   "cell_type": "code",
   "execution_count": 18,
   "metadata": {
    "collapsed": false
   },
   "outputs": [
    {
     "name": "stdout",
     "output_type": "stream",
     "text": [
      "['alidou', 'davydd', 'kirk', 'raffaello', 'kirksey', 'yuny', 'nusa', 'hirooki', 'sharrod', 'morvan']\n",
      "['nesrine', 'jianqing', 'asomatianos', 'ophir', 'johane', 'matar', 'vontez', 'nelsan', 'saishu', 'waldick']\n",
      "['cleto', 'husna', 'rahera', 'lifetu', 'khulekani', 'gambier', 'shaoguang', 'izzatullah', 'hampden', 'meline']\n",
      "\n",
      "['loesener', 'kirk', 'kirksey', 'alpizar', 'musisi', 'zagame', 'odifreddi', 'gasteiger', 'semanick', 'autun']\n",
      "['morvan', 'bulgarin', 'abt', 'ridding', 'eeg', 'nerezov', 'deahm', 'tangora', 'pihl', 'lupino']\n",
      "['hiraethog', 'wilmots', 'andriacchi', 'slipak', 'sleaver', 'vanse', 'uslu', 'franel', 'dumichen', 'owatari']\n"
     ]
    }
   ],
   "source": [
    "\n",
    "print (first_train[:10])\n",
    "print (first_val[:10])\n",
    "print (first_test[:10])\n",
    "\n",
    "print()\n",
    "\n",
    "print (last_train[:10])\n",
    "print (last_val[:10])\n",
    "print (last_test[:10])"
   ]
  },
  {
   "cell_type": "code",
   "execution_count": 19,
   "metadata": {
    "collapsed": true
   },
   "outputs": [],
   "source": [
    "def prepare_data(first, last, words, target_size, seed=1):\n",
    "    np.random.seed(seed)\n",
    "\n",
    "    positive_n = target_size / 8\n",
    "    negagive_n = 5 * target_size / 8\n",
    "\n",
    "\n",
    "    valid_names = pd.DataFrame({\n",
    "            'first': np.random.choice(first, size=positive_n), \n",
    "            'second': np.random.choice(last, size=positive_n)})\n",
    "    valid_names['target'] = 1\n",
    "\n",
    "    part_name_1 = pd.DataFrame({\n",
    "            'first': np.random.choice(words, size=positive_n),\n",
    "            'second': np.random.choice(first, size=positive_n), \n",
    "            })\n",
    "    part_name_1['target'] = 0\n",
    "\n",
    "    part_name_2 = pd.DataFrame({\n",
    "            'first': np.random.choice(last, size=positive_n),\n",
    "            'second': np.random.choice(words, size=positive_n)\n",
    "            })\n",
    "    part_name_2['target'] = 0\n",
    "\n",
    "    not_names = pd.DataFrame({\n",
    "            'first': np.random.choice(words, size=negagive_n),\n",
    "            'second': np.random.choice(words, size=negagive_n)\n",
    "            })\n",
    "    not_names['target'] = 0\n",
    "\n",
    "    result = pd.concat([valid_names, part_name_1, part_name_2])\n",
    "    result = pd.concat([result, not_names]).reset_index(drop=1)\n",
    "\n",
    "    result['candidate'] = result['first'] + ' ' + result['second']\n",
    "    del result['first'], result['second']\n",
    "    result = result.reindex(np.random.permutation(result.index))\n",
    "    return result"
   ]
  },
  {
   "cell_type": "code",
   "execution_count": 20,
   "metadata": {
    "collapsed": false
   },
   "outputs": [
    {
     "name": "stderr",
     "output_type": "stream",
     "text": [
      "//anaconda/lib/python3.5/site-packages/ipykernel/__main__.py:9: VisibleDeprecationWarning: using a non-integer number instead of an integer will result in an error in the future\n",
      "//anaconda/lib/python3.5/site-packages/ipykernel/__main__.py:10: VisibleDeprecationWarning: using a non-integer number instead of an integer will result in an error in the future\n",
      "//anaconda/lib/python3.5/site-packages/ipykernel/__main__.py:14: VisibleDeprecationWarning: using a non-integer number instead of an integer will result in an error in the future\n",
      "//anaconda/lib/python3.5/site-packages/ipykernel/__main__.py:15: VisibleDeprecationWarning: using a non-integer number instead of an integer will result in an error in the future\n",
      "//anaconda/lib/python3.5/site-packages/ipykernel/__main__.py:20: VisibleDeprecationWarning: using a non-integer number instead of an integer will result in an error in the future\n",
      "//anaconda/lib/python3.5/site-packages/ipykernel/__main__.py:21: VisibleDeprecationWarning: using a non-integer number instead of an integer will result in an error in the future\n",
      "//anaconda/lib/python3.5/site-packages/ipykernel/__main__.py:26: VisibleDeprecationWarning: using a non-integer number instead of an integer will result in an error in the future\n",
      "//anaconda/lib/python3.5/site-packages/ipykernel/__main__.py:27: VisibleDeprecationWarning: using a non-integer number instead of an integer will result in an error in the future\n"
     ]
    },
    {
     "data": {
      "text/html": [
       "<div>\n",
       "<table border=\"1\" class=\"dataframe\">\n",
       "  <thead>\n",
       "    <tr style=\"text-align: right;\">\n",
       "      <th></th>\n",
       "      <th>target</th>\n",
       "      <th>candidate</th>\n",
       "    </tr>\n",
       "  </thead>\n",
       "  <tbody>\n",
       "    <tr>\n",
       "      <th>426181</th>\n",
       "      <td>0</td>\n",
       "      <td>hooray wolfishly</td>\n",
       "    </tr>\n",
       "    <tr>\n",
       "      <th>418277</th>\n",
       "      <td>0</td>\n",
       "      <td>fugitives excavator</td>\n",
       "    </tr>\n",
       "    <tr>\n",
       "      <th>56705</th>\n",
       "      <td>1</td>\n",
       "      <td>vallance wuhayshi</td>\n",
       "    </tr>\n",
       "    <tr>\n",
       "      <th>206685</th>\n",
       "      <td>0</td>\n",
       "      <td>tunic wildebeest</td>\n",
       "    </tr>\n",
       "    <tr>\n",
       "      <th>216313</th>\n",
       "      <td>0</td>\n",
       "      <td>ingenuousness democratising</td>\n",
       "    </tr>\n",
       "  </tbody>\n",
       "</table>\n",
       "</div>"
      ],
      "text/plain": [
       "        target                    candidate\n",
       "426181       0             hooray wolfishly\n",
       "418277       0          fugitives excavator\n",
       "56705        1            vallance wuhayshi\n",
       "206685       0             tunic wildebeest\n",
       "216313       0  ingenuousness democratising"
      ]
     },
     "execution_count": 20,
     "metadata": {},
     "output_type": "execute_result"
    }
   ],
   "source": [
    "\n",
    "df_train = prepare_data(first_test, last_test, words_train, target_size=500000)\n",
    "df_train.head()"
   ]
  },
  {
   "cell_type": "code",
   "execution_count": 21,
   "metadata": {
    "collapsed": false
   },
   "outputs": [
    {
     "data": {
      "text/plain": [
       "0.125"
      ]
     },
     "execution_count": 21,
     "metadata": {},
     "output_type": "execute_result"
    }
   ],
   "source": [
    "df_train.target.mean()"
   ]
  },
  {
   "cell_type": "code",
   "execution_count": 22,
   "metadata": {
    "collapsed": false
   },
   "outputs": [
    {
     "name": "stderr",
     "output_type": "stream",
     "text": [
      "//anaconda/lib/python3.5/site-packages/ipykernel/__main__.py:9: VisibleDeprecationWarning: using a non-integer number instead of an integer will result in an error in the future\n",
      "//anaconda/lib/python3.5/site-packages/ipykernel/__main__.py:10: VisibleDeprecationWarning: using a non-integer number instead of an integer will result in an error in the future\n",
      "//anaconda/lib/python3.5/site-packages/ipykernel/__main__.py:14: VisibleDeprecationWarning: using a non-integer number instead of an integer will result in an error in the future\n",
      "//anaconda/lib/python3.5/site-packages/ipykernel/__main__.py:15: VisibleDeprecationWarning: using a non-integer number instead of an integer will result in an error in the future\n",
      "//anaconda/lib/python3.5/site-packages/ipykernel/__main__.py:20: VisibleDeprecationWarning: using a non-integer number instead of an integer will result in an error in the future\n",
      "//anaconda/lib/python3.5/site-packages/ipykernel/__main__.py:21: VisibleDeprecationWarning: using a non-integer number instead of an integer will result in an error in the future\n",
      "//anaconda/lib/python3.5/site-packages/ipykernel/__main__.py:26: VisibleDeprecationWarning: using a non-integer number instead of an integer will result in an error in the future\n",
      "//anaconda/lib/python3.5/site-packages/ipykernel/__main__.py:27: VisibleDeprecationWarning: using a non-integer number instead of an integer will result in an error in the future\n"
     ]
    },
    {
     "data": {
      "text/html": [
       "<div>\n",
       "<table border=\"1\" class=\"dataframe\">\n",
       "  <thead>\n",
       "    <tr style=\"text-align: right;\">\n",
       "      <th></th>\n",
       "      <th>target</th>\n",
       "      <th>candidate</th>\n",
       "    </tr>\n",
       "  </thead>\n",
       "  <tbody>\n",
       "    <tr>\n",
       "      <th>141970</th>\n",
       "      <td>0</td>\n",
       "      <td>kilovolt armlets</td>\n",
       "    </tr>\n",
       "    <tr>\n",
       "      <th>9616</th>\n",
       "      <td>1</td>\n",
       "      <td>ntone saradzhev</td>\n",
       "    </tr>\n",
       "    <tr>\n",
       "      <th>14536</th>\n",
       "      <td>1</td>\n",
       "      <td>jihad bueil</td>\n",
       "    </tr>\n",
       "    <tr>\n",
       "      <th>74275</th>\n",
       "      <td>0</td>\n",
       "      <td>clattering thirteen</td>\n",
       "    </tr>\n",
       "    <tr>\n",
       "      <th>18725</th>\n",
       "      <td>1</td>\n",
       "      <td>changjun furtney</td>\n",
       "    </tr>\n",
       "  </tbody>\n",
       "</table>\n",
       "</div>"
      ],
      "text/plain": [
       "        target            candidate\n",
       "141970       0     kilovolt armlets\n",
       "9616         1      ntone saradzhev\n",
       "14536        1          jihad bueil\n",
       "74275        0  clattering thirteen\n",
       "18725        1     changjun furtney"
      ]
     },
     "execution_count": 22,
     "metadata": {},
     "output_type": "execute_result"
    }
   ],
   "source": [
    "\n",
    "df_val = prepare_data(first_val, last_val, words_val, target_size=150000)\n",
    "df_val.head()"
   ]
  },
  {
   "cell_type": "code",
   "execution_count": 23,
   "metadata": {
    "collapsed": false
   },
   "outputs": [
    {
     "data": {
      "text/plain": [
       "(500000, 58168)"
      ]
     },
     "execution_count": 23,
     "metadata": {},
     "output_type": "execute_result"
    }
   ],
   "source": [
    "tfidf = TfidfVectorizer(analyzer='char', ngram_range=(2, 4), min_df=10)\n",
    "X = tfidf.fit_transform(df_train.candidate)\n",
    "y = df_train.target\n",
    "\n",
    "X.shape"
   ]
  },
  {
   "cell_type": "code",
   "execution_count": 24,
   "metadata": {
    "collapsed": true
   },
   "outputs": [],
   "source": [
    "X_val = tfidf.transform(df_val.candidate)\n",
    "y_val = df_val.target"
   ]
  },
  {
   "cell_type": "code",
   "execution_count": 25,
   "metadata": {
    "collapsed": false
   },
   "outputs": [
    {
     "name": "stderr",
     "output_type": "stream",
     "text": [
      "//anaconda/lib/python3.5/site-packages/statsmodels/nonparametric/kdetools.py:20: VisibleDeprecationWarning: using a non-integer number instead of an integer will result in an error in the future\n",
      "  y = X[:m/2+1] + np.r_[0,X[m/2+1:],0]*1j\n"
     ]
    },
    {
     "data": {
      "text/plain": [
       "<matplotlib.axes._subplots.AxesSubplot at 0x10555a2e8>"
      ]
     },
     "execution_count": 25,
     "metadata": {},
     "output_type": "execute_result"
    },
    {
     "data": {
      "image/png": "[encoded data removed]",
      "text/plain": [
       "<matplotlib.figure.Figure at 0x11afa4160>"
      ]
     },
     "metadata": {},
     "output_type": "display_data"
    }
   ],
   "source": [
    "sns.distplot(X.sum(axis=1))\n",
    "sns.distplot(X_val.sum(axis=1))"
   ]
  },
  {
   "cell_type": "code",
   "execution_count": 26,
   "metadata": {
    "collapsed": false
   },
   "outputs": [
    {
     "name": "stdout",
     "output_type": "stream",
     "text": [
      "fit for C=0.000100 took 5.069s\n",
      "auc=0.50000\n",
      "fit for C=0.001000 took 5.177s\n",
      "auc=0.87327\n",
      "fit for C=0.010000 took 32.993s\n",
      "auc=0.94926\n",
      "fit for C=0.100000 took 13831.952s\n",
      "auc=0.97741\n",
      "fit for C=0.500000 took 276.227s\n",
      "auc=0.98202\n"
     ]
    }
   ],
   "source": [
    "for C in [0.0001, 0.001, 0.01, 0.1, 0.5]:\n",
    "    t0 = time()\n",
    "    svm = LinearSVC(penalty='l1', dual=False, random_state=1, C=C)\n",
    "    svm.fit(X, y)\n",
    "\n",
    "    print ('fit for C=%f took %0.3fs' % (C, time() - t0))\n",
    "    res = svm.decision_function(X_val)\n",
    "    auc = roc_auc_score(y_val, res)\n",
    "    print ('auc=%0.5f' % (auc))"
   ]
  },
  {
   "cell_type": "code",
   "execution_count": 27,
   "metadata": {
    "collapsed": false
   },
   "outputs": [
    {
     "data": {
      "text/plain": [
       "(650000, 2)"
      ]
     },
     "execution_count": 27,
     "metadata": {},
     "output_type": "execute_result"
    }
   ],
   "source": [
    "df_train_full = pd.concat([df_train, df_val])\n",
    "df_train_full.shape"
   ]
  },
  {
   "cell_type": "code",
   "execution_count": 28,
   "metadata": {
    "collapsed": false
   },
   "outputs": [
    {
     "name": "stderr",
     "output_type": "stream",
     "text": [
      "//anaconda/lib/python3.5/site-packages/ipykernel/__main__.py:9: VisibleDeprecationWarning: using a non-integer number instead of an integer will result in an error in the future\n",
      "//anaconda/lib/python3.5/site-packages/ipykernel/__main__.py:10: VisibleDeprecationWarning: using a non-integer number instead of an integer will result in an error in the future\n",
      "//anaconda/lib/python3.5/site-packages/ipykernel/__main__.py:14: VisibleDeprecationWarning: using a non-integer number instead of an integer will result in an error in the future\n",
      "//anaconda/lib/python3.5/site-packages/ipykernel/__main__.py:15: VisibleDeprecationWarning: using a non-integer number instead of an integer will result in an error in the future\n",
      "//anaconda/lib/python3.5/site-packages/ipykernel/__main__.py:20: VisibleDeprecationWarning: using a non-integer number instead of an integer will result in an error in the future\n",
      "//anaconda/lib/python3.5/site-packages/ipykernel/__main__.py:21: VisibleDeprecationWarning: using a non-integer number instead of an integer will result in an error in the future\n",
      "//anaconda/lib/python3.5/site-packages/ipykernel/__main__.py:26: VisibleDeprecationWarning: using a non-integer number instead of an integer will result in an error in the future\n",
      "//anaconda/lib/python3.5/site-packages/ipykernel/__main__.py:27: VisibleDeprecationWarning: using a non-integer number instead of an integer will result in an error in the future\n"
     ]
    },
    {
     "data": {
      "text/html": [
       "<div>\n",
       "<table border=\"1\" class=\"dataframe\">\n",
       "  <thead>\n",
       "    <tr style=\"text-align: right;\">\n",
       "      <th></th>\n",
       "      <th>target</th>\n",
       "      <th>candidate</th>\n",
       "    </tr>\n",
       "  </thead>\n",
       "  <tbody>\n",
       "    <tr>\n",
       "      <th>92649</th>\n",
       "      <td>0</td>\n",
       "      <td>elects auction</td>\n",
       "    </tr>\n",
       "    <tr>\n",
       "      <th>6618</th>\n",
       "      <td>1</td>\n",
       "      <td>yordanos hawke</td>\n",
       "    </tr>\n",
       "    <tr>\n",
       "      <th>2952</th>\n",
       "      <td>1</td>\n",
       "      <td>marama deladerriere</td>\n",
       "    </tr>\n",
       "    <tr>\n",
       "      <th>57321</th>\n",
       "      <td>0</td>\n",
       "      <td>paramilitaries reformulated</td>\n",
       "    </tr>\n",
       "    <tr>\n",
       "      <th>17841</th>\n",
       "      <td>1</td>\n",
       "      <td>biggs norregaard</td>\n",
       "    </tr>\n",
       "  </tbody>\n",
       "</table>\n",
       "</div>"
      ],
      "text/plain": [
       "       target                    candidate\n",
       "92649       0               elects auction\n",
       "6618        1               yordanos hawke\n",
       "2952        1          marama deladerriere\n",
       "57321       0  paramilitaries reformulated\n",
       "17841       1             biggs norregaard"
      ]
     },
     "execution_count": 28,
     "metadata": {},
     "output_type": "execute_result"
    }
   ],
   "source": [
    "df_test = prepare_data(first_test, last_test, words_test, target_size=150000)\n",
    "df_test.head()"
   ]
  },
  {
   "cell_type": "code",
   "execution_count": 29,
   "metadata": {
    "collapsed": true
   },
   "outputs": [],
   "source": [
    "tfidf = TfidfVectorizer(analyzer='char', ngram_range=(2, 4), min_df=10)\n",
    "X = tfidf.fit_transform(df_train_full.candidate)\n",
    "y = df_train_full.target\n",
    "X_test = tfidf.transform(df_test.candidate)\n",
    "y_test = df_test.target"
   ]
  },
  {
   "cell_type": "code",
   "execution_count": 30,
   "metadata": {
    "collapsed": false
   },
   "outputs": [
    {
     "name": "stdout",
     "output_type": "stream",
     "text": [
      "fit for C=0.500000 took 369.058s\n",
      "auc=0.99005\n"
     ]
    }
   ],
   "source": [
    "best_C = 0.5\n",
    "\n",
    "t0 = time()\n",
    "svm = LinearSVC(penalty='l1', dual=False, random_state=1, C=best_C)\n",
    "svm.fit(X, y)\n",
    "\n",
    "print ('fit for C=%f took %0.3fs' % (C, time() - t0))\n",
    "res = svm.decision_function(X_test)\n",
    "auc = roc_auc_score(y_test, res)\n",
    "print ('auc=%0.5f' % (auc))"
   ]
  },
  {
   "cell_type": "code",
   "execution_count": 31,
   "metadata": {
    "collapsed": false
   },
   "outputs": [
    {
     "name": "stdout",
     "output_type": "stream",
     "text": [
      "precision = 0.9854\n",
      "recall    = 0.9750\n",
      "f1        = 0.9802\n"
     ]
    }
   ],
   "source": [
    "predicted_labels = (res > 0).astype(int)\n",
    "(tp, fn), (fp, tn) = confusion_matrix(y_test, predicted_labels) \n",
    "\n",
    "p = 1.0 * tp / (tp + fp)\n",
    "r = 1.0 * tp / (tp + fn)\n",
    "print ('precision = %.4f' % p)\n",
    "print ('recall    = %.4f' % r)\n",
    "print ('f1        = %.4f' % (2 * p * r / (p + r)))"
   ]
  },
  {
   "cell_type": "code",
   "execution_count": 32,
   "metadata": {
    "collapsed": false
   },
   "outputs": [
    {
     "name": "stdout",
     "output_type": "stream",
     "text": [
      "incorrectly classified\n"
     ]
    },
    {
     "data": {
      "text/html": [
       "<div>\n",
       "<table border=\"1\" class=\"dataframe\">\n",
       "  <thead>\n",
       "    <tr style=\"text-align: right;\">\n",
       "      <th></th>\n",
       "      <th>target</th>\n",
       "      <th>predicted</th>\n",
       "      <th>candidate</th>\n",
       "    </tr>\n",
       "  </thead>\n",
       "  <tbody>\n",
       "    <tr>\n",
       "      <th>63999</th>\n",
       "      <td>0</td>\n",
       "      <td>1</td>\n",
       "      <td>shrink lewd</td>\n",
       "    </tr>\n",
       "    <tr>\n",
       "      <th>15995</th>\n",
       "      <td>1</td>\n",
       "      <td>0</td>\n",
       "      <td>stevens axgren</td>\n",
       "    </tr>\n",
       "    <tr>\n",
       "      <th>35597</th>\n",
       "      <td>0</td>\n",
       "      <td>1</td>\n",
       "      <td>drunkard sadaharu</td>\n",
       "    </tr>\n",
       "    <tr>\n",
       "      <th>1736</th>\n",
       "      <td>1</td>\n",
       "      <td>0</td>\n",
       "      <td>doming keilman</td>\n",
       "    </tr>\n",
       "    <tr>\n",
       "      <th>41447</th>\n",
       "      <td>0</td>\n",
       "      <td>1</td>\n",
       "      <td>lotzkar pinions</td>\n",
       "    </tr>\n",
       "    <tr>\n",
       "      <th>7072</th>\n",
       "      <td>1</td>\n",
       "      <td>0</td>\n",
       "      <td>shawntae modise</td>\n",
       "    </tr>\n",
       "    <tr>\n",
       "      <th>48432</th>\n",
       "      <td>0</td>\n",
       "      <td>1</td>\n",
       "      <td>okpebholo garotte</td>\n",
       "    </tr>\n",
       "    <tr>\n",
       "      <th>21730</th>\n",
       "      <td>0</td>\n",
       "      <td>1</td>\n",
       "      <td>doge antoniazzo</td>\n",
       "    </tr>\n",
       "    <tr>\n",
       "      <th>21455</th>\n",
       "      <td>0</td>\n",
       "      <td>1</td>\n",
       "      <td>plebeian bai</td>\n",
       "    </tr>\n",
       "    <tr>\n",
       "      <th>120057</th>\n",
       "      <td>0</td>\n",
       "      <td>1</td>\n",
       "      <td>erase etui</td>\n",
       "    </tr>\n",
       "    <tr>\n",
       "      <th>27778</th>\n",
       "      <td>0</td>\n",
       "      <td>1</td>\n",
       "      <td>radios kisyeri</td>\n",
       "    </tr>\n",
       "    <tr>\n",
       "      <th>31830</th>\n",
       "      <td>0</td>\n",
       "      <td>1</td>\n",
       "      <td>crewman andre</td>\n",
       "    </tr>\n",
       "    <tr>\n",
       "      <th>31317</th>\n",
       "      <td>0</td>\n",
       "      <td>1</td>\n",
       "      <td>ripcord zubaira</td>\n",
       "    </tr>\n",
       "    <tr>\n",
       "      <th>32828</th>\n",
       "      <td>0</td>\n",
       "      <td>1</td>\n",
       "      <td>kites ninrrol</td>\n",
       "    </tr>\n",
       "    <tr>\n",
       "      <th>39075</th>\n",
       "      <td>0</td>\n",
       "      <td>1</td>\n",
       "      <td>eribon balloon</td>\n",
       "    </tr>\n",
       "    <tr>\n",
       "      <th>47483</th>\n",
       "      <td>0</td>\n",
       "      <td>1</td>\n",
       "      <td>nappo volleyball</td>\n",
       "    </tr>\n",
       "    <tr>\n",
       "      <th>10926</th>\n",
       "      <td>1</td>\n",
       "      <td>0</td>\n",
       "      <td>keshorn markides</td>\n",
       "    </tr>\n",
       "    <tr>\n",
       "      <th>47000</th>\n",
       "      <td>0</td>\n",
       "      <td>1</td>\n",
       "      <td>lelong mustache</td>\n",
       "    </tr>\n",
       "    <tr>\n",
       "      <th>55279</th>\n",
       "      <td>0</td>\n",
       "      <td>1</td>\n",
       "      <td>meri beige</td>\n",
       "    </tr>\n",
       "    <tr>\n",
       "      <th>50234</th>\n",
       "      <td>0</td>\n",
       "      <td>1</td>\n",
       "      <td>teymurzadeh senate</td>\n",
       "    </tr>\n",
       "  </tbody>\n",
       "</table>\n",
       "</div>"
      ],
      "text/plain": [
       "        target  predicted           candidate\n",
       "63999        0          1         shrink lewd\n",
       "15995        1          0      stevens axgren\n",
       "35597        0          1   drunkard sadaharu\n",
       "1736         1          0      doming keilman\n",
       "41447        0          1     lotzkar pinions\n",
       "7072         1          0     shawntae modise\n",
       "48432        0          1   okpebholo garotte\n",
       "21730        0          1     doge antoniazzo\n",
       "21455        0          1        plebeian bai\n",
       "120057       0          1          erase etui\n",
       "27778        0          1      radios kisyeri\n",
       "31830        0          1       crewman andre\n",
       "31317        0          1     ripcord zubaira\n",
       "32828        0          1       kites ninrrol\n",
       "39075        0          1      eribon balloon\n",
       "47483        0          1    nappo volleyball\n",
       "10926        1          0    keshorn markides\n",
       "47000        0          1     lelong mustache\n",
       "55279        0          1          meri beige\n",
       "50234        0          1  teymurzadeh senate"
      ]
     },
     "execution_count": 32,
     "metadata": {},
     "output_type": "execute_result"
    }
   ],
   "source": [
    "results = df_test.copy()\n",
    "results.insert(1, 'predicted', predicted_labels)\n",
    "\n",
    "print ('incorrectly classified')\n",
    "results[predicted_labels != y_test].sample(n=20, random_state=1)"
   ]
  },
  {
   "cell_type": "code",
   "execution_count": 34,
   "metadata": {
    "collapsed": false
   },
   "outputs": [
    {
     "name": "stdout",
     "output_type": "stream",
     "text": [
      "names correctly classified\n"
     ]
    },
    {
     "data": {
      "text/html": [
       "<div>\n",
       "<table border=\"1\" class=\"dataframe\">\n",
       "  <thead>\n",
       "    <tr style=\"text-align: right;\">\n",
       "      <th></th>\n",
       "      <th>target</th>\n",
       "      <th>predicted</th>\n",
       "      <th>candidate</th>\n",
       "    </tr>\n",
       "  </thead>\n",
       "  <tbody>\n",
       "    <tr>\n",
       "      <th>9091</th>\n",
       "      <td>1</td>\n",
       "      <td>1</td>\n",
       "      <td>brit sulaitis</td>\n",
       "    </tr>\n",
       "    <tr>\n",
       "      <th>5504</th>\n",
       "      <td>1</td>\n",
       "      <td>1</td>\n",
       "      <td>toramori lavillenie</td>\n",
       "    </tr>\n",
       "    <tr>\n",
       "      <th>8450</th>\n",
       "      <td>1</td>\n",
       "      <td>1</td>\n",
       "      <td>jawn rillo</td>\n",
       "    </tr>\n",
       "    <tr>\n",
       "      <th>16050</th>\n",
       "      <td>1</td>\n",
       "      <td>1</td>\n",
       "      <td>egutu sitoci</td>\n",
       "    </tr>\n",
       "    <tr>\n",
       "      <th>4901</th>\n",
       "      <td>1</td>\n",
       "      <td>1</td>\n",
       "      <td>shongjian smolianoff</td>\n",
       "    </tr>\n",
       "    <tr>\n",
       "      <th>6830</th>\n",
       "      <td>1</td>\n",
       "      <td>1</td>\n",
       "      <td>alencar zinzun</td>\n",
       "    </tr>\n",
       "    <tr>\n",
       "      <th>5439</th>\n",
       "      <td>1</td>\n",
       "      <td>1</td>\n",
       "      <td>edyth carabante</td>\n",
       "    </tr>\n",
       "    <tr>\n",
       "      <th>14639</th>\n",
       "      <td>1</td>\n",
       "      <td>1</td>\n",
       "      <td>borey hendou</td>\n",
       "    </tr>\n",
       "    <tr>\n",
       "      <th>10504</th>\n",
       "      <td>1</td>\n",
       "      <td>1</td>\n",
       "      <td>satyo dattatreya</td>\n",
       "    </tr>\n",
       "    <tr>\n",
       "      <th>1497</th>\n",
       "      <td>1</td>\n",
       "      <td>1</td>\n",
       "      <td>falesa dorothy</td>\n",
       "    </tr>\n",
       "  </tbody>\n",
       "</table>\n",
       "</div>"
      ],
      "text/plain": [
       "       target  predicted             candidate\n",
       "9091        1          1         brit sulaitis\n",
       "5504        1          1   toramori lavillenie\n",
       "8450        1          1            jawn rillo\n",
       "16050       1          1          egutu sitoci\n",
       "4901        1          1  shongjian smolianoff\n",
       "6830        1          1        alencar zinzun\n",
       "5439        1          1       edyth carabante\n",
       "14639       1          1          borey hendou\n",
       "10504       1          1      satyo dattatreya\n",
       "1497        1          1        falesa dorothy"
      ]
     },
     "execution_count": 34,
     "metadata": {},
     "output_type": "execute_result"
    }
   ],
   "source": [
    "print ('names correctly classified')\n",
    "results[(y_test == 1) & (predicted_labels == y_test)].sample(n=10, random_state=1)"
   ]
  },
  {
   "cell_type": "code",
   "execution_count": 35,
   "metadata": {
    "collapsed": false
   },
   "outputs": [
    {
     "name": "stdout",
     "output_type": "stream",
     "text": [
      "not names correctly classified\n"
     ]
    },
    {
     "data": {
      "text/html": [
       "<div>\n",
       "<table border=\"1\" class=\"dataframe\">\n",
       "  <thead>\n",
       "    <tr style=\"text-align: right;\">\n",
       "      <th></th>\n",
       "      <th>target</th>\n",
       "      <th>predicted</th>\n",
       "      <th>candidate</th>\n",
       "    </tr>\n",
       "  </thead>\n",
       "  <tbody>\n",
       "    <tr>\n",
       "      <th>57005</th>\n",
       "      <td>0</td>\n",
       "      <td>0</td>\n",
       "      <td>stairway fearlessness</td>\n",
       "    </tr>\n",
       "    <tr>\n",
       "      <th>91571</th>\n",
       "      <td>0</td>\n",
       "      <td>0</td>\n",
       "      <td>organisation resiting</td>\n",
       "    </tr>\n",
       "    <tr>\n",
       "      <th>83341</th>\n",
       "      <td>0</td>\n",
       "      <td>0</td>\n",
       "      <td>chubbiness oceanic</td>\n",
       "    </tr>\n",
       "    <tr>\n",
       "      <th>109372</th>\n",
       "      <td>0</td>\n",
       "      <td>0</td>\n",
       "      <td>contents hoisting</td>\n",
       "    </tr>\n",
       "    <tr>\n",
       "      <th>56568</th>\n",
       "      <td>0</td>\n",
       "      <td>0</td>\n",
       "      <td>grandeur granddaughters</td>\n",
       "    </tr>\n",
       "    <tr>\n",
       "      <th>127602</th>\n",
       "      <td>0</td>\n",
       "      <td>0</td>\n",
       "      <td>staffroom exacting</td>\n",
       "    </tr>\n",
       "    <tr>\n",
       "      <th>122030</th>\n",
       "      <td>0</td>\n",
       "      <td>0</td>\n",
       "      <td>rare homologues</td>\n",
       "    </tr>\n",
       "    <tr>\n",
       "      <th>103098</th>\n",
       "      <td>0</td>\n",
       "      <td>0</td>\n",
       "      <td>mockery accusers</td>\n",
       "    </tr>\n",
       "    <tr>\n",
       "      <th>83184</th>\n",
       "      <td>0</td>\n",
       "      <td>0</td>\n",
       "      <td>sphinx convention</td>\n",
       "    </tr>\n",
       "    <tr>\n",
       "      <th>34941</th>\n",
       "      <td>0</td>\n",
       "      <td>0</td>\n",
       "      <td>fascinatingly fashad</td>\n",
       "    </tr>\n",
       "  </tbody>\n",
       "</table>\n",
       "</div>"
      ],
      "text/plain": [
       "        target  predicted                candidate\n",
       "57005        0          0    stairway fearlessness\n",
       "91571        0          0    organisation resiting\n",
       "83341        0          0       chubbiness oceanic\n",
       "109372       0          0        contents hoisting\n",
       "56568        0          0  grandeur granddaughters\n",
       "127602       0          0       staffroom exacting\n",
       "122030       0          0          rare homologues\n",
       "103098       0          0         mockery accusers\n",
       "83184        0          0        sphinx convention\n",
       "34941        0          0     fascinatingly fashad"
      ]
     },
     "execution_count": 35,
     "metadata": {},
     "output_type": "execute_result"
    }
   ],
   "source": [
    "print ('not names correctly classified')\n",
    "results[(y_test == 0) & (predicted_labels == y_test)].sample(n=10, random_state=1)"
   ]
  },
  {
   "cell_type": "code",
   "execution_count": null,
   "metadata": {
    "collapsed": true
   },
   "outputs": [],
   "source": []
  }
 ],
 "metadata": {
  "anaconda-cloud": {},
  "kernelspec": {
   "display_name": "Python [Root]",
   "language": "python",
   "name": "Python [Root]"
  },
  "language_info": {
   "codemirror_mode": {
    "name": "ipython",
    "version": 3
   },
   "file_extension": ".py",
   "mimetype": "text/x-python",
   "name": "python",
   "nbconvert_exporter": "python",
   "pygments_lexer": "ipython3",
   "version": "3.5.1"
  }
 },
 "nbformat": 4,
 "nbformat_minor": 0
}
